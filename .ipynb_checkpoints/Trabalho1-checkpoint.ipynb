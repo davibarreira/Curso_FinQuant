{
 "cells": [
  {
   "cell_type": "markdown",
   "id": "65b72d6f-a731-4686-9fa2-9d2ee7f2986b",
   "metadata": {},
   "source": [
    "# Quantitative Finance\n",
    "**Team**: Davi Barreira, Gabriel Doc, Pedro Dall\n",
    "\n",
    "Consider the following problem. We wish to liquidate a significant amount of an asset, such that\n",
    "our actions affect it's price.\n",
    "If we just try to sell everything at the current market price, our order will walk the book, and thus,\n",
    "we'll end up selling at a price possibly much lower. To avoid this problem, we wish to break our order\n",
    "in smaller orders, and \"slowly\" sell the asset, so that the Limit Order Book can be \"replenished\".\n",
    "The problem now is, if you take to long to sell the asset, you are subjected to the market's variation,\n",
    "and the asset's price might drop (which is probably what you expected, since you wanted to sell!).\n",
    "\n",
    "Hence, we are looking for an optimal strategy to sell the asset. How fast should we sell it?\n",
    "Also, we consider that our time-horizon is finite, i.e. we wish to liquidate all the assets\n",
    "at most at time T (this could be an hour, a day, a month, etc).\n"
   ]
  },
  {
   "cell_type": "markdown",
   "id": "d43fb353-6dc5-45a2-9d3c-651d149d7288",
   "metadata": {},
   "source": [
    "## Modeling the Problem\n",
    "Let's define some of the variables:\n",
    "* $\\nu$ - The strategy to liquidate the asset;\n",
    "* $\\nu_t$ - The rate of which we sell the asset at time $t$.\n",
    "* $\\mu_t$ - The net order flow, i.e. the rate at which the market is buying/selling the asset;\n",
    "* $X_t^\\nu$ - The cash flow of the agent at time $t$ using strategy $\\nu$;\n",
    "* $S_t^\\nu$ - The price of the asset at time $t$ under strategy $\\nu$;\n",
    "* $Q_t^\\nu$ - Amount of \"shares\" of the asset the agent is holding at time $t$ with strategy $\\nu$;\n"
   ]
  },
  {
   "cell_type": "markdown",
   "id": "b1844b5a-d479-40f1-83d5-851fbdc992c3",
   "metadata": {},
   "source": [
    "Our modelling assumptions are the following.\n",
    "First, we'll assume that the both our action and the market's affect the price of the assets linearly and equally,\n",
    "and that the price of the asset has a \"natural\" variability modeled as a Brownian motion with variance $\\sigma$. Thus,\n",
    "the price of the asset is given by\n",
    "\n",
    "$$\n",
    "dS^\\nu_t = \\sigma dW_t + b(\\mu_T - \\nu_t)dt,\n",
    "$$\n",
    "\n",
    "where $b \\in \\mathbb R_+$, and $W_t$ is the Brownian motion.\n",
    "\n",
    "The net order flow $\\mu_t$ will be modelled as two independent Poisson processes, one for buy orders and another for\n",
    "sell orders with\n",
    "\n",
    "$$\n",
    "d\\mu_t = -\\kappa \\mu_t dt + \\eta (dL_t^+ - dL_t^-)\n",
    "$$\n",
    "\n",
    "where $\\eta$ is the impact of the increase/decrease of order flow, and $\\kappa$ is a rate of decay of the jumps.\n",
    "Our last simplifying assumption is that, when we sell at a rate $\\nu_t$, we always walk the book a bit, which\n",
    "is approximated by a linear equation $k \\nu_t$ to model such impact, with $k>0$.\n",
    "\n",
    "Thus, the cash process of the\n",
    "agent is given by:\n",
    "\n",
    "$$\n",
    "d X_t^\\nu = (S^\\nu_t - k \\nu_t) \\nu_t dt.\n",
    "$$\n",
    "\n",
    "Note that if we assumed that we always sell the the midprice, then cash process would be simply $dX_t^\\nu = S_t^\\nu \\nu_t dt$, i.e. the amount\n",
    "of money we get is the amount we trade times the price. The amount of shares we have can be computed as:\n",
    "\n",
    "$$\n",
    "dQ_t^\\nu = - \\nu_t dt.\n",
    "$$\n",
    "\n",
    "Lastly, we need to know what function we are going to try to optimize. This is a bit controversial. We might\n",
    "think that what we want to do is find $\\nu \\in \\mathcal A$ (set of admissible strategies) that maximizes $E[X^\\nu_T]$, i.e. maximize the expected value of the agent's\n",
    "cash at the final time $T$. But, if this was the case, the strategy\n",
    "is not penalized if it's too slow. Hence, instead of $E[X^\\nu_T]$, we'll try to maximize\n",
    "\n",
    "$$\n",
    "E\\left[X^\\nu_T + Q_T^\\nu(S^\\nu_T - \\alpha Q^\\nu_T) - \\phi \\int_t^T (Q^\\nu_s)^2 ds\\right].\n",
    "$$\n",
    "\n",
    "Note that we added two extra terms. The first one was $Q_T^\\nu(S^\\nu_T - \\alpha Q^\\nu_T)$. This term penalizes\n",
    "the strategy if there is still some of the asset left by the end of time $T$. When this happens, the agent\n",
    "has to sell everthing at market price. But if we do that, the strategy is penalized by the amount of shares times\n",
    "a parameter $\\alpha > 0$.\n",
    "Secondly,  $\\phi \\int_t^T (Q^\\nu_s)^2 ds$, which penalizes the strategy by how long it holds the asset. This is controlled\n",
    "by a parameter $\\phi>0$. The larget $\\phi$, the quicker the agent wants to get rid of the asset.\n",
    "\n",
    "\n"
   ]
  },
  {
   "cell_type": "markdown",
   "id": "0c8f5ac0-049f-4db1-bdd8-0bec62a7fdb9",
   "metadata": {},
   "source": [
    "----\n",
    "### Ergodicity Economics\n",
    "Even with some modifications, such optimization function still has a problem... Note that we are trying to\n",
    "maximize an expected value, but is this what we really want? Mathematicians and economists have noticed a long\n",
    "time ago that, in practice, humans do not actually \"try\" to maximize the expected value, but something else.\n",
    "Economists tried to fix this decoupling between human behavior and what seemed to be the correct mathematical function,\n",
    "and thus introduced what is called a utility funciton. This function is supposed to model our apparent risk-aversion behavior.\n",
    "Yet, this is still problematic, because the choice of such utility function seems arbitrary.\n",
    "\n",
    "Perhaps the best example of such oddity is revealed in the St. Petersburg Paradox. The paradox is the following. Consider a game\n",
    "in which a fair coin is tossed. If you get \"heads\", then you add two dollars to your pile. If you flip \"heads\" again, you double the current amount in your pile,\n",
    "i.e. the two dollars becomes four, and so on. The game goes on until you flip \"tails\", in which the game ends and you receive the amount of money currently in the pile.\n",
    "The question is then, how much money would you pay to play this game? Here is where things get interesting. If you try to\n",
    "calculate the expected value of this game, you'll find out that it's actually infinite. Hence, if the \"fair\" price to play the game\n",
    "is the expected value, then the \"rational\" thing to do is to play the game for any amount of money...\n",
    "\n",
    "You can already smell the b.s. in the air. We can intuite that there is something off about this. It's not a surprise that this was\n",
    "coined as a paradox, since the \"logical\" answer seems so \"unlogical\". This problem was posed in 1738 by Daniel Bernoulli, which\n",
    "proposed to solve it by introducing the \"utility function\". Yet, this seemed like cheating, since it's not clear how this notion\n",
    "could \"naturally\" emerge from the original problem.\n",
    "\n",
    "It was only in 2011 that the physicist Ole Peters proposed a new solution, which does not make use of any funky utility function,\n",
    "but instead, relies only in the problem itself. He realized that the St. Petersburg game is not ergodic, i.e.\n",
    "the time-average of the game is not equal to the ensamble-average (also known as \"expected\" value).\n",
    "The only reason the game has infinite expected value is that a tiny fraction of possible games\n",
    "result in absurds amount of money. But you, a single individual, would only be able to get such\n",
    "large amount of money if you played the game a zillion times... And if you actually added the amount of money\n",
    "you had to pay to play each time, you would not make a lot of money. Now we can more clearly see why the expected value of the cash process is not the \"correct\" thing to maximize.\n",
    "\n",
    "----"
   ]
  },
  {
   "cell_type": "markdown",
   "id": "ef5b8299-b8f9-46ed-89b3-d054619ead28",
   "metadata": {},
   "source": [
    "## Analytical Solution\n",
    "\n",
    "Let's use Dynamic Programming to solve our modelling problem. Remember, we to find the optimal strategy $\\nu^* \\in \\mathcal A$ such that\n",
    "\n",
    "$$\n",
    "\\nu^* = \\arg\\sup_{\\nu \\in \\mathcal A} E_{t,x,S,\\mu,q}\\left[X^\\nu_t + Q_T^\\nu(S^\\nu_T - \\alpha Q^\\nu_T) - \\phi \\int_t^T (Q^\\nu_s)^2 ds\\right] = H^\\nu(t,x,S,\\mu,q).\n",
    "$$\n",
    "\n",
    "Our Stochastic Control Problem is:\n",
    "\n",
    "$$\n",
    "\\begin{cases}\n",
    "H(t,x):= \\sup_{\\nu \\in \\mathcal A}H^\\nu(t,x,S,\\mu,q), \\\\\n",
    "X^{\\nu}_t,\\text{ solves } d X_t^\\nu = (S^\\nu_t - k \\nu_t) \\nu_t dt, \\\\\n",
    "X^{\\nu}_T = x,\\\\\n",
    "dS^\\nu_t = \\sigma dW_t + b(\\mu_T - \\nu_t)dt,\\\\\n",
    "d\\mu_t = -\\kappa \\mu_t dt + \\eta (dL_t^+ - dL_t^-)\n",
    "\\end{cases}\n",
    "$$\n",
    "\n",
    "The typical resolution through Hamilton-Jacobi-Bellman consists in the following steps (from lecture notes):\n",
    "* Solve the HJB Equation via an educated guess. The HJB equation is the following:\n",
    "$$\n",
    "\\nabla_t H + \n",
    "\\sup_{\\nu\\in \\mathcal A}(\\mathcal L^\\nu H(t,x) + \n",
    "$$"
   ]
  },
  {
   "cell_type": "markdown",
   "id": "6227324d-c004-4b56-bd45-fd8ed54393f6",
   "metadata": {},
   "source": [
    "## Simulation"
   ]
  },
  {
   "cell_type": "code",
   "execution_count": 55,
   "id": "127980de-cdb9-4c61-9745-b2c2e666cf6f",
   "metadata": {},
   "outputs": [
    {
     "data": {
      "text/plain": [
       "100"
      ]
     },
     "execution_count": 55,
     "metadata": {},
     "output_type": "execute_result"
    }
   ],
   "source": [
    "Nₛ = 5000 # Number of simulations\n",
    "T  = 1\n",
    "Nₜ = Int(360*6.5)\n",
    "δₜ = T/(360*6.5)\n",
    "t = range(0,T,step = δₜ)\n",
    "\n",
    "k, b = 0.001, 0.0001\n",
    "\n",
    "λ, κ, η = 1000, 10, 5\n",
    "\n",
    "S₀ = 50   # Initial price of the asset\n",
    "Q₀ = 1    # Initial amount of \"shares\"\n",
    "ϕ  = 0.01 # Penalty for holding the asset\n",
    "σ  = 0.1  # Volatility for the price process\n",
    "\n",
    "α  = 100  # Penalty for having shares at the final time T"
   ]
  },
  {
   "cell_type": "markdown",
   "id": "6943a356-12c9-4715-a138-47c604130ccd",
   "metadata": {},
   "source": [
    "$$\n",
    "\\gamma = \\sqrt{\\frac{\\phi}{k}}\n",
    "$$\n",
    "\n",
    "$$\n",
    "\\zeta = \\frac{\\alpha -b/2 + \\sqrt{k \\phi}}{\\alpha -b/2 - \\sqrt{k \\phi}}\n",
    "$$\n",
    "\n",
    "$$\n",
    "\\chi(t) = \\sqrt{k \\phi} \\frac{1+\\zeta e^{2\\gamma(T-t)}}{1-\\zeta e^{2\\gamma(T-t)}}\n",
    "$$\n",
    "\n",
    "$$\n",
    "\\nu_{t}^{*}=-\\frac{1}{k} \\chi(t) Q_{t}^{\\nu^{*}}-\\frac{b}{2 k} \\overline{\\ell}_{1}(t) \\mu_{t}\n",
    "$$\n",
    "where $\\ell_{1}^{t}$ can be expressed as \n",
    "$$\n",
    "\\ell_{1}(t)=b \\int_{t}^{T} e^{-\\kappa(s-t)} e^{\\frac{1}{k} \\int_{t}^{s}\\chi(u) d u}  d s\n",
    "$$\n",
    "and  simplifies to\n",
    "$$\n",
    "{\\qquad \\ell_{1}(t)=b \\;\\ell(T-t) \\geq 0} \n",
    "$$\n",
    "where\n",
    "$$\n",
    " {\\qquad \\ell(\\tau)=\\frac{1}{\\zeta e^{\\gamma \\tau}-e^{-\\gamma \\tau}}\\left\\{e^{\\gamma \\tau} \\frac{1-e^{-(\\kappa+\\gamma) \\tau}}{\\kappa+\\gamma} \\zeta-e^{-\\gamma \\tau} \\frac{1-e^{-(\\kappa-\\gamma) \\tau}}{\\kappa-\\gamma}\\right\\}}\n",
    "$$"
   ]
  },
  {
   "cell_type": "markdown",
   "id": "1a0ee191-bac7-4000-8697-a1f89345f87b",
   "metadata": {},
   "source": [
    "#### Computing the constants"
   ]
  },
  {
   "cell_type": "code",
   "execution_count": 70,
   "id": "5c787295-81d6-4ac3-ae9a-24aa0f29c074",
   "metadata": {},
   "outputs": [],
   "source": [
    "γ = √(ϕ/k)\n",
    "ζ = (α - b/2 + √(k*ϕ))/(α - b/2 - √(k*ϕ))\n",
    "τ = T .- t\n",
    "χ = @. √(k*ϕ)*(1 + ζ*exp(2*γ * τ))/(1 - ζ*exp(2*γ * τ))\n",
    "ℓ = @. (1/(ζ*exp(γ*τ) - exp(-γ * τ))) * (exp(γ*τ) * ((1 - exp(-(κ + γ)*τ))/(κ + γ))*ζ -  exp(-γ*τ) * ((1 - exp(-(κ - γ)*τ))/(κ - γ)));"
   ]
  },
  {
   "cell_type": "markdown",
   "id": "197bfe90-7738-4c13-9900-99573c6974c4",
   "metadata": {},
   "source": [
    "#### Initializing Variables"
   ]
  },
  {
   "cell_type": "code",
   "execution_count": 72,
   "id": "5b7efa9e-15f1-42c0-97ac-ed41eb1e8f1a",
   "metadata": {},
   "outputs": [],
   "source": [
    "μ = zeros(Nₛ, Nₜ+1)\n",
    "ν = zeros(Nₛ, Nₜ+1)\n",
    "\n",
    "X = zeros(Nₛ, Nₜ+1)\n",
    "\n",
    "Q = zeros(Nₛ, Nₜ+1)\n",
    "Q[:,1] .= Q₀\n",
    "\n",
    "S = zeros(Nₛ, Nₜ+1)\n",
    "S[:,1] .= S₀;"
   ]
  },
  {
   "cell_type": "code",
   "execution_count": 99,
   "id": "ff48dbab-9dc1-4b11-8c81-32e6ab589fa1",
   "metadata": {},
   "outputs": [],
   "source": [
    "for i in 1:Nₜ\n",
    "    ν[:,i] .= -1/k * χ[i]*Q[:, i] - 0.5 * b/k * ℓ[i] * μ[:,i]\n",
    "    \n",
    "    X[:, i+1] .= X[:, i] + (S[:, i] - k * ν[:,i]) .* ν[:,i] * δₜ\n",
    "    Q[:, i+1] .= Q[:, i] - ν[:, i] * δₜ\n",
    "    \n",
    "    dW = (√δₜ) * randn(Nₛ)\n",
    "    \n",
    "    S[:, i+1] .= S[:, i] + b* (μ[:, i] - ν[:, i]) * δₜ + (σ * dW)\n",
    "end"
   ]
  },
  {
   "cell_type": "code",
   "execution_count": null,
   "id": "c6c59e91-6532-4ac1-bb04-d3f16de5dee0",
   "metadata": {},
   "outputs": [],
   "source": []
  },
  {
   "cell_type": "code",
   "execution_count": null,
   "id": "e31a5408-4ff8-4573-ace5-f0f61bd7ca62",
   "metadata": {},
   "outputs": [],
   "source": [
    "#  Simulating computed strategy\n",
    "for i in range(Ndt):\n",
    "\n",
    "    # Compute optimal trading rate\n",
    "    nu[:, i] = -1/k*chi[i]*Q[:, i] - 0.5 * b / k * ell[i] * mu[:, i]\n",
    "    nu_AC[i] = -1/k*chi[i] * Q_AC[i]\n",
    "\n",
    "    # Account for the cost of the trades above and update inventory\n",
    "    X[:, i + 1] = X[:, i] + (S[:, i] - k * nu[:, i]) * nu[:, i] * dt\n",
    "    Q[:, i+1] = Q[:, i] - nu[:, i] * dt\n",
    "    \n",
    "    # If you were trading using Almgren-Chriss this is what you would do\n",
    "    X_AC[:, i + 1] = X_AC[:, i] + (S_AC[:, i] - k * nu_AC[i]) * nu_AC[i] * dt\n",
    "    Q_AC[i+1] = Q_AC[i] - nu_AC[i] * dt\n",
    "\n",
    "    # simulate the SDE for price forward \n",
    "    dW = dt**0.5 * np.random.randn(Nsims, 1)\n",
    "    \n",
    "    S[:, i + 1] = S[:, i] + b * (mu[:, i] - nu[:, i]) * dt + (sigma * dW).reshape(Nsims)\n",
    "    S_AC[:, i + 1] = S_AC[:, i] + b * (mu[:, i] - nu_AC[i]) * dt + (sigma * dW).reshape(Nsims)\n",
    "    \n",
    "    #  simulate order-flow forward\n",
    "    \n",
    "    # decide if an order-flow update arrives\n",
    "    dn = (np.random.rand(Nsims, 1) < 1 - np.exp(-2 * lam * dt)).astype(int)\n",
    "    # decide if it adds to the buy/sell pressure\n",
    "    buysell = (np.random.rand(Nsims, 1) < 0.5)\n",
    "    # generate the size of the order-flow impact\n",
    "    eta = -eta_mean * np.log(np.random.rand(Nsims, 1))\n",
    "    \n",
    "    # simulate the SDE for mu forward\n",
    "    mu[:, i + 1] = mu[:, i]*np.exp(-kappa * dt) + (eta * dn * (2 * buysell - 1)).reshape(Nsims)\n"
   ]
  }
 ],
 "metadata": {
  "kernelspec": {
   "display_name": "JuliaFlux 1.6.3",
   "language": "julia",
   "name": "juliaflux-1.6"
  },
  "language_info": {
   "file_extension": ".jl",
   "mimetype": "application/julia",
   "name": "julia",
   "version": "1.6.3"
  }
 },
 "nbformat": 4,
 "nbformat_minor": 5
}
